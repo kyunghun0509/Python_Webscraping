{
 "cells": [
  {
   "cell_type": "code",
   "execution_count": 8,
   "id": "c2953532",
   "metadata": {},
   "outputs": [
    {
     "name": "stdout",
     "output_type": "stream",
     "text": [
      "반지름이 5 인 원의 넓이 = 78.53981633974483\n"
     ]
    }
   ],
   "source": [
    "#반지름 5인 원의 넓이를 계산하세요\n",
    "import math\n",
    "radius = 5\n",
    "area = math.pi * radius ** 2\n",
    "print(\"반지름이\", radius, \"인 원의 넓이 =\", area)"
   ]
  },
  {
   "cell_type": "code",
   "execution_count": null,
   "id": "e22a484f",
   "metadata": {},
   "outputs": [],
   "source": [
    "# 사용자로부터 체중(kg)과 키(cm)를 입력받아 BMI를 계산하세요.\n",
    "try:\n",
    "    weight = float(input(\"체중을 입력하세요\"))\n",
    "    height = float(input(\"키를를 입력하세요\"))\n",
    "    \n",
    "    if weight <= 0 or height <= 0:\n",
    "        print(\"체중과 키는 0보다 커야합니다\")\n",
    "    else:\n",
    "        height = height\n",
    "        bmi = weight / (height ** 2)\n",
    "        \n",
    "        print(\"당신의 BMI는\", round(bmi,2),\"입니다.\")\n",
    "except ValueError:\n",
    "    print(\"잘못된 입력입니다. 숫자만 입력하세요!\")"
   ]
  },
  {
   "cell_type": "code",
   "execution_count": 13,
   "id": "63e7ba47",
   "metadata": {},
   "outputs": [
    {
     "name": "stdout",
     "output_type": "stream",
     "text": [
      "12345초는 3시간 25분 45초\n"
     ]
    }
   ],
   "source": [
    "#12345초를 시간,분,초로 변환하세요\n",
    "total_seconds = 12345\n",
    "\n",
    "hours = total_seconds // 3600\n",
    "remaining_seconds = total_seconds % 3600\n",
    "minutes = remaining_seconds//60\n",
    "seconds = remaining_seconds % 60\n",
    "\n",
    "print(f\"{total_seconds}초는 {hours}시간 {minutes}분 {seconds}초\")\n"
   ]
  },
  {
   "cell_type": "code",
   "execution_count": 15,
   "id": "d46bd6cd",
   "metadata": {},
   "outputs": [
    {
     "name": "stdout",
     "output_type": "stream",
     "text": [
      "각자3333원 받고 1원 남습니다\n"
     ]
    }
   ],
   "source": [
    "#10000원을 3명이서 똑같이 나누어 가질 때 각자 얼마를 받고 얼마가 남는지 계산하세요\n",
    "total_money = 10000\n",
    "people = 3\n",
    "\n",
    "money_per_person = total_money // people\n",
    "money_left = total_money % people\n",
    "\n",
    "print(f\"각자{money_per_person}원 받고 {money_left}원 남습니다\")\n",
    "\n"
   ]
  },
  {
   "cell_type": "code",
   "execution_count": null,
   "id": "8febcb7d",
   "metadata": {},
   "outputs": [
    {
     "name": "stdout",
     "output_type": "stream",
     "text": [
      "Hello World\n",
      "HELLO WORLD\n",
      "World\n",
      "['Python', 'is', 'fun']\n",
      "ace\n",
      "HelloHelloHello\n"
     ]
    }
   ],
   "source": [
    "#\"Hello\"와 \"World\"를 연결하여 \"Hello World\"를 출력하세요.대문자로 변환하세요.\n",
    "#\"Hello World\"에서 \"World\"만 슬라이싱하여 출력하세요.\n",
    "#\"Python is fun\"에서 공백을 기준으로 문자열을 분리하세요.\n",
    "#\"abcdef\"에서 짝수 인덱스(0, 2, 4)의 문자들만 출력하세요.\n",
    "#\"Hello\"를 3번 반복하여 출력하세요.\n",
    "\n",
    "str1 = \"Hello\"\n",
    "str2 = \"World\"\n",
    "result = str1 +\" \" + str2\n",
    "print(result)\n",
    "\n",
    "print(result.upper())\n",
    "\n",
    "print(result[6:])\n",
    "\n",
    "text = \"Python is fun\"\n",
    "print(text.split())\n",
    "\n",
    "data = \"abcdef\"\n",
    "print(data[0::2])\n",
    "\n",
    "print(str1 * 3)\n"
   ]
  },
  {
   "cell_type": "code",
   "execution_count": 17,
   "id": "66498bb9",
   "metadata": {},
   "outputs": [
    {
     "name": "stdout",
     "output_type": "stream",
     "text": [
      "1990년 12월 12일\n"
     ]
    }
   ],
   "source": [
    "#주민등록번호 \"901212-1234567\"에서 생년월일을 추출하세요.\n",
    "id_number = \"901212-1234567\"\n",
    "\n",
    "birth = id_number[:6]  \n",
    "\n",
    "gender_code = id_number[7]  \n",
    "\n",
    "\n",
    "if gender_code == '1' or gender_code == '2':\n",
    "    year = \"19\" + birth[:2]  \n",
    "elif gender_code == '3' or gender_code == '4':\n",
    "    year = \"20\" + birth[:2]  \n",
    "else:\n",
    "    year = \"19\" + birth[:2]  \n",
    "\n",
    "\n",
    "month = birth[2:4]\n",
    "day = birth[4:6]\n",
    "\n",
    "print(f\"{year}년 {month}월 {day}일\")"
   ]
  },
  {
   "cell_type": "code",
   "execution_count": null,
   "id": "babbb09e",
   "metadata": {},
   "outputs": [],
   "source": [
    "#입력된 이메일 주소가 유효한지 검사하세요. (조건: @와 . 포함)\n",
    "\n",
    "\n",
    "email = input(\"이메일 주소를 입력하세요: \")\n",
    "\n",
    "if \"@\" in email and \".\" in email:\n",
    "    print(\"이메일 주소:\", email)\n",
    "    print(\"유효함\")\n",
    "else:\n",
    "    print(\"이메일 주소:\", email)\n",
    "    print(\"유효하지 않음\""
   ]
  },
  {
   "cell_type": "code",
   "execution_count": null,
   "id": "b0fe915a",
   "metadata": {},
   "outputs": [],
   "source": [
    "#\"Python is awesome\"에서 모음(a, e, i, o, u)의 개수를 세세요.\n",
    "text = \"Python is awesome\"\n",
    "\n",
    "\n",
    "vowels = \"aeiouAEIOU\" \n",
    "\n",
    "\n",
    "count = 0  \n",
    "\n",
    "for char in text:\n",
    "    if char in vowels:\n",
    "        count += 1\n",
    "\n",
    "\n",
    "print(\"모음 개수 :\", count)"
   ]
  },
  {
   "cell_type": "code",
   "execution_count": null,
   "id": "74ceb752",
   "metadata": {},
   "outputs": [],
   "source": [
    "#[\"apple\", \"banana\", \"cherry\"] 리스트에 \"orange\"를 추가하세요.\n",
    "fruits = [\"apple\", \"banana\", \"cherry\"]\n",
    "fruits.append(\"orange\")  \n",
    "numbers = [10, 20, 30]\n",
    "total = sum(numbers)  \n",
    "print(\"합계:\", total)\n",
    "\n",
    "nums = [1, 2, 3, 4, 5]\n",
    "print(nums[::-1])  \n",
    "\n",
    "\n",
    "data = [5, 2, 8, 1, 9]\n",
    "data.sort()  \n",
    "print(data)"
   ]
  },
  {
   "cell_type": "code",
   "execution_count": null,
   "id": "9e2a898b",
   "metadata": {},
   "outputs": [],
   "source": [
    "# {\"name\": \"John\", \"age\": 30} 딕셔너리에서 \"age\"의 값을 출력하세요.\n",
    "#{\"math\": 90, \"science\": 85, \"history\": 78} 딕셔너리에서 모든 과목명을 출력하세요.\n",
    "#딕셔너리 {'apple': 3, 'banana': 5}에서 apple의 값을 2 증가시키세요.\n",
    "#[5, 2, 8, 1, 9] 리스트를 오름차순으로 정렬하세요.\n",
    "person = {\"name\": \"John\", \"age\": 30}\n",
    "print(\"나이:\", person[\"age\"])\n",
    "\n",
    "# 2. 딕셔너리에서 모든 과목명 출력\n",
    "scores = {\"math\": 90, \"science\": 85, \"history\": 78}\n",
    "print(\"과목들:\", list(scores.keys()))  # keys()로 과목명 가져오기\n",
    "\n",
    "# 3. 딕셔너리 값 증가\n",
    "fruits = {'apple': 3, 'banana': 5}\n",
    "fruits['apple'] += 2  # apple 값 2 증가\n",
    "print(fruits)\n"
   ]
  }
 ],
 "metadata": {
  "kernelspec": {
   "display_name": "base",
   "language": "python",
   "name": "python3"
  },
  "language_info": {
   "codemirror_mode": {
    "name": "ipython",
    "version": 3
   },
   "file_extension": ".py",
   "mimetype": "text/x-python",
   "name": "python",
   "nbconvert_exporter": "python",
   "pygments_lexer": "ipython3",
   "version": "3.12.7"
  }
 },
 "nbformat": 4,
 "nbformat_minor": 5
}
