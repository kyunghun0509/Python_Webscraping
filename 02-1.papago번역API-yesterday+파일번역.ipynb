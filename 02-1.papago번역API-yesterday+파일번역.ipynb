{
 "cells": [
  {
   "cell_type": "markdown",
   "metadata": {},
   "source": [
    "### requests의  PrepardRequest\n",
    "* [PrepardRequest](https://requests.readthedocs.io/en/latest/user/advanced/#prepared-requests)"
   ]
  },
  {
   "cell_type": "code",
   "execution_count": 2,
   "metadata": {},
   "outputs": [
    {
     "name": "stdout",
     "output_type": "stream",
     "text": [
      "send original text :  Yesterday all my troubles seemed so far away.\n",
      "에러 발생  {'errorMessage': 'papago/n2mt : API does not exist. (존재하지 않는 API입니다.)', 'errorCode': '051'}\n",
      "job completed..\n"
     ]
    }
   ],
   "source": [
    "from requests import Request, Session\n",
    "\n",
    "NAVER_CLIENT_ID = 'ZAZjlfXS4P5FW5DtE0wg'\n",
    "NAVER_CLIENT_SECRET = 'RNbe1ikysg'\n",
    "\n",
    "\n",
    "def get_text_list():\n",
    "    lists = []\n",
    "    with open('data/yesterday.txt', 'r',encoding=\"utf8\") as file:\n",
    "        contents = file.read()\n",
    "        lists = contents.split(\"\\n\")\n",
    "\n",
    "    return lists\n",
    "\n",
    "def save_to_file(list):\n",
    "    with open('data/yesterday.translated_ver2.txt', 'w',encoding=\"utf8\") as file:\n",
    "        file.writelines(list)\n",
    "\n",
    "def main():\n",
    "    # session 객체생성\n",
    "    session = Session()\n",
    "    # 요청헤더 dict 선언\n",
    "    headers = {\n",
    "        'X-Naver-Client-Id': NAVER_CLIENT_ID,\n",
    "        'X-Naver-Client-Secret': NAVER_CLIENT_SECRET,\n",
    "    }\n",
    "    url = 'https://openapi.naver.com/v1/papago/n2mt'\n",
    "\n",
    "    lists = get_text_list()\n",
    "    lists = [ i for i in lists if len(i) != 0] # '' 문자열 제거\n",
    "\n",
    "    result_list = []\n",
    "    payload = {\n",
    "        'source': 'en',\n",
    "        'target': 'ko',\n",
    "    }\n",
    "    for en_text in lists:\n",
    "        payload['text'] = en_text\n",
    "        # request 객체생성\n",
    "        req = Request('POST', url, data=payload, headers=headers)\n",
    "        # PreparedRequest 객체생성\n",
    "        prepared = req.prepare()\n",
    "        #print(type(prepared))\n",
    "        # request를 보내고 response 객체생성\n",
    "        res = session.send(prepared)\n",
    "        \n",
    "        print('send original text : ', en_text)\n",
    "        ko_text = ''\n",
    "        \n",
    "        try:\n",
    "            ko_text = res.json()['message']['result']['translatedText']\n",
    "        except Exception as err:\n",
    "            print('에러 발생 ',res.json())\n",
    "            break\n",
    "\n",
    "        print('translated to : ', ko_text)\n",
    "        result_list.append(en_text+ '\\n')\n",
    "        result_list.append(ko_text + '\\n')\n",
    "\n",
    "    save_to_file(result_list)\n",
    "    print('job completed..')\n",
    "\n",
    "\n",
    "main()\n"
   ]
  },
  {
   "cell_type": "markdown",
   "metadata": {},
   "source": [
    "%pip show googletrans\n"
   ]
  },
  {
   "cell_type": "code",
   "execution_count": 3,
   "metadata": {},
   "outputs": [
    {
     "name": "stdout",
     "output_type": "stream",
     "text": [
      "Note: you may need to restart the kernel to use updated packages.\n"
     ]
    }
   ],
   "source": [
    "%pip install -q googletrans==4.0.0-rc1"
   ]
  },
  {
   "cell_type": "code",
   "execution_count": 6,
   "metadata": {},
   "outputs": [],
   "source": [
    "from googletrans import Translator\n",
    "\n",
    "def get_text_list():\n",
    "    lists = []\n",
    "    with open('data/yesterday.txt', 'r', encoding=\"utf8\") as file:\n",
    "        contents = file.read()\n",
    "        lists = contents.split(\"\\n\")\n",
    "    return lists\n",
    "\n",
    "\n",
    "def save_to_file(list):\n",
    "    with open('data/yesterday_translated_google.txt', 'w', encoding=\"utf8\") as file:\n",
    "        file.writelines(list)\n",
    "\n",
    "\n",
    "def main():\n",
    "    translator = Translator()\n",
    "\n",
    "    lists = get_text_list()\n",
    "    lists = [i for i in lists if len(i.strip()) != 0]  # 공백 제거\n",
    "\n",
    "    result_list = []\n",
    "\n",
    "    for en_text in lists:\n",
    "        print('원문:', en_text)\n",
    "        translated = translator.translate(en_text, src='en', dest='ko')\n",
    "        ko_text = translated.text\n",
    "        print('번역:', ko_text)\n",
    "\n",
    "        result_list.append(en_text + '\\n')\n",
    "        result_list.append(ko_text + '\\n')\n",
    "\n",
    "    save_to_file(result_list)\n",
    "    print('번역 완료!')\n",
    "    main()"
   ]
  }
 ],
 "metadata": {
  "kernelspec": {
   "display_name": "base",
   "language": "python",
   "name": "python3"
  },
  "language_info": {
   "codemirror_mode": {
    "name": "ipython",
    "version": 3
   },
   "file_extension": ".py",
   "mimetype": "text/x-python",
   "name": "python",
   "nbconvert_exporter": "python",
   "pygments_lexer": "ipython3",
   "version": "3.12.7"
  }
 },
 "nbformat": 4,
 "nbformat_minor": 4
}
