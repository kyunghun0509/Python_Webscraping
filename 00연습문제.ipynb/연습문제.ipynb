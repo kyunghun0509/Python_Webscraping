{
 "cells": [
  {
   "cell_type": "code",
   "execution_count": null,
   "id": "28a8d888",
   "metadata": {},
   "outputs": [],
   "source": [
    "#### 2.1 연습문제"
   ]
  },
  {
   "cell_type": "code",
   "execution_count": 9,
   "id": "e34ee3d0",
   "metadata": {},
   "outputs": [],
   "source": [
    "from urllib.parse import urljoin\n",
    "from IPython.display import Image, display"
   ]
  },
  {
   "cell_type": "code",
   "execution_count": 13,
   "id": "5367e208",
   "metadata": {},
   "outputs": [
    {
     "data": {
      "text/html": [
       "<img src=\"https://thumbnews.nateimg.co.kr/news90///news.nateimg.co.kr/orgImg/do/2025/04/09/131383592.1.jpg\"/>"
      ],
      "text/plain": [
       "<IPython.core.display.Image object>"
      ]
     },
     "metadata": {},
     "output_type": "display_data"
    },
    {
     "name": "stdout",
     "output_type": "stream",
     "text": [
      "이재명 내일 유튜브로 출마 선언…\"실용주의 협상가 강조\"\n",
      "https://news.nate.com/view/20250409n37473?mid=n0101\n"
     ]
    },
    {
     "data": {
      "text/html": [
       "<img src=\"https://thumbnews.nateimg.co.kr/news90///news.nateimg.co.kr/orgImg/jt/2025/04/09/20250409192001205001.jpg\"/>"
      ],
      "text/plain": [
       "<IPython.core.display.Image object>"
      ]
     },
     "metadata": {},
     "output_type": "display_data"
    },
    {
     "name": "stdout",
     "output_type": "stream",
     "text": [
      "논란의 이완규, 노무현 향해 \"인사권 넘기라\"던 그 검사였다\n",
      "https://news.nate.com/view/20250409n37384?mid=n0101\n"
     ]
    },
    {
     "data": {
      "text/html": [
       "<img src=\"https://thumbnews.nateimg.co.kr/news90///news.nateimg.co.kr/orgImg/jo/2025/04/09/39d747c0-e0cf-4d60-bbe8-7fc41335bdbe.jpg\"/>"
      ],
      "text/plain": [
       "<IPython.core.display.Image object>"
      ]
     },
     "metadata": {},
     "output_type": "display_data"
    },
    {
     "name": "stdout",
     "output_type": "stream",
     "text": [
      "\"구속시켜야\" 언성 높인 민주당…\"잘 할 수 있다\" 몸 낮춘 이완규\n",
      "https://news.nate.com/view/20250409n35917?mid=n0101\n"
     ]
    },
    {
     "data": {
      "text/html": [
       "<img src=\"https://thumbnews.nateimg.co.kr/news90///news.nateimg.co.kr/orgImg/jt/2025/04/09/20250409185750217001.jpg\"/>"
      ],
      "text/plain": [
       "<IPython.core.display.Image object>"
      ]
     },
     "metadata": {},
     "output_type": "display_data"
    },
    {
     "name": "stdout",
     "output_type": "stream",
     "text": [
      "우원식 \"인사청문 접수 거부\"…헌재로 넘어간 '한덕수 지명'\n",
      "https://news.nate.com/view/20250409n37409?mid=n0101\n"
     ]
    },
    {
     "data": {
      "text/html": [
       "<img src=\"https://thumbnews.nateimg.co.kr/news90///news.nateimg.co.kr/orgImg/hn/2025/04/09/20250409503895.jpg\"/>"
      ],
      "text/plain": [
       "<IPython.core.display.Image object>"
      ]
     },
     "metadata": {},
     "output_type": "display_data"
    },
    {
     "name": "stdout",
     "output_type": "stream",
     "text": [
      "이완규, 윤석열 파면 전 '낙점' 의혹…인사검증 하루도 안 걸려\n",
      "https://news.nate.com/view/20250409n37016?mid=n0101\n"
     ]
    },
    {
     "data": {
      "text/html": [
       "<img src=\"https://thumbnews.nateimg.co.kr/news90///news.nateimg.co.kr/orgImg/hi/2025/04/09/2b2264b0-15ad-42c7-be2f-e77b73811345.png\"/>"
      ],
      "text/plain": [
       "<IPython.core.display.Image object>"
      ]
     },
     "metadata": {},
     "output_type": "display_data"
    },
    {
     "name": "stdout",
     "output_type": "stream",
     "text": [
      "감사원 \"대통령 관저 이전 자료수집 과정서 문제점 포착\"\n",
      "https://news.nate.com/view/20250409n31174?mid=n0101\n"
     ]
    },
    {
     "data": {
      "text/html": [
       "<img src=\"https://thumbnews.nateimg.co.kr/news90///news.nateimg.co.kr/orgImg/ns/2025/04/09/NISI20250408_0020763879_web.jpg\"/>"
      ],
      "text/plain": [
       "<IPython.core.display.Image object>"
      ]
     },
     "metadata": {},
     "output_type": "display_data"
    },
    {
     "name": "stdout",
     "output_type": "stream",
     "text": [
      "한 대행 \"한미동맹, 안보동맹·경제동맹으로 격상시켜야\"\n",
      "https://news.nate.com/view/20250409n37345?mid=n0101\n"
     ]
    },
    {
     "data": {
      "text/html": [
       "<img src=\"https://thumbnews.nateimg.co.kr/news90///news.nateimg.co.kr/orgImg/jt/2025/04/09/20250409191536510001.jpg\"/>"
      ],
      "text/plain": [
       "<IPython.core.display.Image object>"
      ]
     },
     "metadata": {},
     "output_type": "display_data"
    },
    {
     "name": "stdout",
     "output_type": "stream",
     "text": [
      "재판관이 기소되면 어떡하나?…이완규 \"그건 그때 가서 생각\"\n",
      "https://news.nate.com/view/20250409n37339?mid=n0101\n"
     ]
    },
    {
     "data": {
      "text/html": [
       "<img src=\"https://thumbnews.nateimg.co.kr/news90///news.nateimg.co.kr/orgImg/hn/2025/04/09/20250409503888.jpg\"/>"
      ],
      "text/plain": [
       "<IPython.core.display.Image object>"
      ]
     },
     "metadata": {},
     "output_type": "display_data"
    },
    {
     "name": "stdout",
     "output_type": "stream",
     "text": [
      "'중도보수' 자처 이재명 세 번째 도전…내란 종식·국가 통합 '이중 과제'\n",
      "https://news.nate.com/view/20250409n36891?mid=n0101\n"
     ]
    },
    {
     "data": {
      "text/html": [
       "<img src=\"https://thumbnews.nateimg.co.kr/news90///news.nateimg.co.kr/orgImg/kx/2025/04/09/01400101.20250409500112.jpg\"/>"
      ],
      "text/plain": [
       "<IPython.core.display.Image object>"
      ]
     },
     "metadata": {},
     "output_type": "display_data"
    },
    {
     "name": "stdout",
     "output_type": "stream",
     "text": [
      "권성동 \"윤석열·이재명 동시에 사라지는 게 시대 명령\"\n",
      "https://news.nate.com/view/20250409n37233?mid=n0101\n",
      "한 대행, 상호관세 발효에 \"한미동맹 격상이 슬기로운 해법\"\n",
      "https://news.nate.com/view/20250409n37213?mid=n0101\n"
     ]
    },
    {
     "data": {
      "text/html": [
       "<img src=\"https://thumbnews.nateimg.co.kr/news90///news.nateimg.co.kr/orgImg/sg/2025/04/09/20250409519044.jpg\"/>"
      ],
      "text/plain": [
       "<IPython.core.display.Image object>"
      ]
     },
     "metadata": {},
     "output_type": "display_data"
    },
    {
     "name": "stdout",
     "output_type": "stream",
     "text": [
      "尹, 11일 관저서 퇴거할 듯…경호팀 60여명 전망\n",
      "https://news.nate.com/view/20250409n37193?mid=n0101\n"
     ]
    },
    {
     "data": {
      "text/html": [
       "<img src=\"https://thumbnews.nateimg.co.kr/news90///news.nateimg.co.kr/orgImg/ny/2025/04/09/159216_1744193451.jpg\"/>"
      ],
      "text/plain": [
       "<IPython.core.display.Image object>"
      ]
     },
     "metadata": {},
     "output_type": "display_data"
    },
    {
     "name": "stdout",
     "output_type": "stream",
     "text": [
      "헬기에 드론 공격까지…실전 같은 훈련에 군 간부 꿈꾸는 학생들 호응\n",
      "https://news.nate.com/view/20250409n37155?mid=n0101\n"
     ]
    },
    {
     "data": {
      "text/html": [
       "<img src=\"https://thumbnews.nateimg.co.kr/news90///news.nateimg.co.kr/orgImg/mt/2025/04/09/2025040918385447857_1.jpg\"/>"
      ],
      "text/plain": [
       "<IPython.core.display.Image object>"
      ]
     },
     "metadata": {},
     "output_type": "display_data"
    },
    {
     "name": "stdout",
     "output_type": "stream",
     "text": [
      "한덕수 \"'글로벌 자유무역 죽었다'고 생각하지 않아\"\n",
      "https://news.nate.com/view/20250409n37109?mid=n0101\n"
     ]
    },
    {
     "data": {
      "text/html": [
       "<img src=\"https://thumbnews.nateimg.co.kr/news90///news.nateimg.co.kr/orgImg/yn/2025/04/09/202504091903506283_t.jpg\"/>"
      ],
      "text/plain": [
       "<IPython.core.display.Image object>"
      ]
     },
     "metadata": {},
     "output_type": "display_data"
    },
    {
     "name": "stdout",
     "output_type": "stream",
     "text": [
      "1차 컷오프 4명? 8명? 김·안·오·유·한·홍 희비 가른다\n",
      "https://news.nate.com/view/20250409n37106?mid=n0101\n"
     ]
    },
    {
     "data": {
      "text/html": [
       "<img src=\"https://thumbnews.nateimg.co.kr/news90///news.nateimg.co.kr/orgImg/yn/2025/04/09/202504091842307952_t.jpg\"/>"
      ],
      "text/plain": [
       "<IPython.core.display.Image object>"
      ]
     },
     "metadata": {},
     "output_type": "display_data"
    },
    {
     "name": "stdout",
     "output_type": "stream",
     "text": [
      "[이슈플러스] 줄줄이 대선 도전 선언…기지개 켠 대권 주자들\n",
      "https://news.nate.com/view/20250409n37105?mid=n0101\n"
     ]
    },
    {
     "data": {
      "text/html": [
       "<img src=\"https://thumbnews.nateimg.co.kr/news90///news.nateimg.co.kr/orgImg/yn/2025/04/09/202504091904461672_t.jpg\"/>"
      ],
      "text/plain": [
       "<IPython.core.display.Image object>"
      ]
     },
     "metadata": {},
     "output_type": "display_data"
    },
    {
     "name": "stdout",
     "output_type": "stream",
     "text": [
      "대선·개헌 동시투표 사실상 무산…이재명, 개헌 공약하나\n",
      "https://news.nate.com/view/20250409n37104?mid=n0101\n"
     ]
    },
    {
     "data": {
      "text/html": [
       "<img src=\"https://thumbnews.nateimg.co.kr/news90///news.nateimg.co.kr/orgImg/mt/2025/04/09/mt_1744193345134_137587_0.jpg\"/>"
      ],
      "text/plain": [
       "<IPython.core.display.Image object>"
      ]
     },
     "metadata": {},
     "output_type": "display_data"
    },
    {
     "name": "stdout",
     "output_type": "stream",
     "text": [
      "외교부, 루비오 美국무장관 방한설에 \"트럼프 2기 출범 후부터 추진\"\n",
      "https://news.nate.com/view/20250409n36929?mid=n0101\n"
     ]
    },
    {
     "data": {
      "text/html": [
       "<img src=\"https://thumbnews.nateimg.co.kr/news90///news.nateimg.co.kr/orgImg/yn/2025/04/09/202504091901439910_t.jpg\"/>"
      ],
      "text/plain": [
       "<IPython.core.display.Image object>"
      ]
     },
     "metadata": {},
     "output_type": "display_data"
    },
    {
     "name": "stdout",
     "output_type": "stream",
     "text": [
      "헌법재판관 지명 후폭풍…\"권한 없어 무효\" \"이재명이 임명?\"\n",
      "https://news.nate.com/view/20250409n37078?mid=n0101\n"
     ]
    },
    {
     "data": {
      "text/html": [
       "<img src=\"https://thumbnews.nateimg.co.kr/news90///news.nateimg.co.kr/orgImg/hn/2025/04/09/20250409503902.jpg\"/>"
      ],
      "text/plain": [
       "<IPython.core.display.Image object>"
      ]
     },
     "metadata": {},
     "output_type": "display_data"
    },
    {
     "name": "stdout",
     "output_type": "stream",
     "text": [
      "이재명, 8일 대선 출마 선언…\"국민과 역경 이겨낼 것\"\n",
      "https://news.nate.com/view/20250409n37017?mid=n0101\n"
     ]
    }
   ],
   "source": [
    "url = \"https://news.nate.com/recent?mid={0}\"\n",
    "sections = {\n",
    "    \"최신\": \"n0100\",\n",
    "    \"정치\": \"n0101\",\n",
    "    \"경제\": \"n0102\",\n",
    "    \"사회\": \"n0103\",\n",
    "    \"세계\": \"n0104\",\n",
    "    \"IT/과학\": \"n0105\"\n",
    "}\n",
    "\n",
    "\n",
    "def getNateNews(sectionName):\n",
    "    req_header = {\n",
    "        'user-agent': 'Mozilla/5.0 (Windows NT 10.0; Win64; x64) AppleWebKit/537.36 (KHTML, like Gecko) Chrome/120.0.0.0 Safari/537.36 Edg/120.0.0.0'\n",
    "    }\n",
    "\n",
    "    res = requests.get(url=url.format(sections[sectionName]), headers=req_header)\n",
    "\n",
    "    if res.ok:\n",
    "        soup = BeautifulSoup(res.text, 'html.parser') #한글 깨짐 방지\n",
    "        # CSS 선택자\n",
    "        news = soup.select(\".postSubjectContent a[href*='//news.nate.com/view']\")\n",
    "        for value in news:\n",
    "            \n",
    "            hrefUrl = urljoin(base=url, url=value.attrs.get(\"href\"), allow_fragments=True)\n",
    "            if iamgeUrl := value.find(\"img\"):\n",
    "                imageUrl = urljoin(base=url, url=iamgeUrl.attrs.get(\"src\"), allow_fragments=True)\n",
    "                display(Image(url=imageUrl))\n",
    "            print(value.find(\"h2\").text)\n",
    "            print(hrefUrl)\n",
    "\n",
    "\n",
    "    else:\n",
    "        print(f\"ERROR CODE: {res.status_code}\")\n",
    "\n",
    "getNateNews(\"정치\")\n"
   ]
  },
  {
   "cell_type": "code",
   "execution_count": null,
   "id": "134a43e4",
   "metadata": {},
   "outputs": [],
   "source": [
    "#### 2-2 숙제"
   ]
  },
  {
   "cell_type": "code",
   "execution_count": 5,
   "id": "cd3249da",
   "metadata": {},
   "outputs": [],
   "source": [
    "import os \n",
    "\n",
    "def download_one_episode(title,no,url):\n",
    "    if not os.path.exists(dirPath := os.path.join(\"img\", title, str(no))):\n",
    "        os.makedirs(dirPath)\n",
    "    else:\n",
    "        req_header = {\n",
    "            'user-agent': 'Mozilla/5.0 (Windows NT 10.0; Win64; x64) AppleWebKit/537.36 (KHTML, like Gecko) Chrome/120.0.0.0 Safari/537.36 Edg/120.0.0.0'\n",
    "        }\n",
    "\n",
    "        res = requests.get(url=url, headers=req_header)\n",
    "\n",
    "        if res.ok:\n",
    "            soup = BeautifulSoup(res.text, 'html.parser') \n",
    "            # CSS 선택자\n",
    "            contents = [data.get(\"src\") for data in soup.select(\".wt_viewer img\")]\n",
    "            for i,value in enumerate(contents):\n",
    "                imgRes = requests.get(value, headers=req_header)\n",
    "                if imgRes.ok:\n",
    "                    with open(os.path.join(dirPath,str(i))+\".jpg\", 'wb') as file:\n",
    "                        img_data = imgRes.content\n",
    "                        file.write(img_data)\n",
    "                else:\n",
    "                    print(f'Error Code = {imgRes.status_code} for {value}')\n",
    "\n",
    "\n",
    "        else:\n",
    "            print(f\"ERROR CODE: {res.status_code}\")\n",
    "\n",
    "download_one_episode('낢이사는이야기',48,'https://comic.naver.com/webtoon/detail?titleId=833255&no=49&week=tue')"
   ]
  }
 ],
 "metadata": {
  "kernelspec": {
   "display_name": "base",
   "language": "python",
   "name": "python3"
  },
  "language_info": {
   "codemirror_mode": {
    "name": "ipython",
    "version": 3
   },
   "file_extension": ".py",
   "mimetype": "text/x-python",
   "name": "python",
   "nbconvert_exporter": "python",
   "pygments_lexer": "ipython3",
   "version": "3.12.7"
  }
 },
 "nbformat": 4,
 "nbformat_minor": 5
}
